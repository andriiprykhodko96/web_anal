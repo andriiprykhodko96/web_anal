{
 "cells": [
  {
   "cell_type": "code",
   "execution_count": 3,
   "id": "9475681e-fc09-41d3-8055-463bbe7cae6a",
   "metadata": {},
   "outputs": [],
   "source": [
    "import praw\n",
    "import pandas as pd"
   ]
  },
  {
   "cell_type": "code",
   "execution_count": 4,
   "id": "c264ca46-fc94-497e-bc4d-4f2fc69fe3e4",
   "metadata": {},
   "outputs": [],
   "source": [
    "client_id = 'eFUhTDm1YquTPYIuu4GORA'\n",
    "client_secret = 'RS7aEEb2sziclD0euqSCwE6ArPmOlQ'\n",
    "user_agent = 'Posts scrapper'"
   ]
  },
  {
   "cell_type": "code",
   "execution_count": 5,
   "id": "ccf2a690-15f5-4f51-baa6-9c5de322711d",
   "metadata": {},
   "outputs": [],
   "source": [
    "reddit = praw.Reddit(client_id=client_id,\n",
    "                     client_secret=client_secret,\n",
    "                     user_agent=user_agent)"
   ]
  },
  {
   "cell_type": "code",
   "execution_count": 6,
   "id": "b8a1a12d-f0f8-494d-a45f-7c6755547b14",
   "metadata": {},
   "outputs": [],
   "source": [
    "username = 'reddit'\n",
    "user = reddit.redditor(username)\n",
    "posts = user.submissions.new(limit=100)"
   ]
  },
  {
   "cell_type": "code",
   "execution_count": 7,
   "id": "31945b94-b983-40a5-9cf5-f035633fdb64",
   "metadata": {},
   "outputs": [],
   "source": [
    "data = []"
   ]
  },
  {
   "cell_type": "code",
   "execution_count": 8,
   "id": "a9fbfb33-e1a0-497f-a3be-e29bc9b04ef7",
   "metadata": {},
   "outputs": [],
   "source": [
    "for post in posts:\n",
    "    author_name = post.author.name if post.author else 'Unknown'\n",
    "    data.append([post.title, post.score, post.id, author_name, post.url,\n",
    "                 post.num_comments, post.selftext, post.created_utc])"
   ]
  },
  {
   "cell_type": "code",
   "execution_count": 9,
   "id": "65a913f9-45a3-4b95-82f5-fe2208a65ef1",
   "metadata": {},
   "outputs": [],
   "source": [
    "df = pd.DataFrame(data, columns=[\"Title\", \"Score\", \"ID\", \"Author\", \"URL\",\n",
    "\"Num_Comments\", \"Body\", \"Created\"])\n"
   ]
  },
  {
   "cell_type": "code",
   "execution_count": 10,
   "id": "c98fcda8-96f6-4bc9-a8e4-cbe0ad8bd5de",
   "metadata": {},
   "outputs": [
    {
     "data": {
      "text/html": [
       "<div>\n",
       "<style scoped>\n",
       "    .dataframe tbody tr th:only-of-type {\n",
       "        vertical-align: middle;\n",
       "    }\n",
       "\n",
       "    .dataframe tbody tr th {\n",
       "        vertical-align: top;\n",
       "    }\n",
       "\n",
       "    .dataframe thead th {\n",
       "        text-align: right;\n",
       "    }\n",
       "</style>\n",
       "<table border=\"1\" class=\"dataframe\">\n",
       "  <thead>\n",
       "    <tr style=\"text-align: right;\">\n",
       "      <th></th>\n",
       "      <th>Title</th>\n",
       "      <th>Score</th>\n",
       "      <th>ID</th>\n",
       "      <th>Author</th>\n",
       "      <th>URL</th>\n",
       "      <th>Num_Comments</th>\n",
       "      <th>Body</th>\n",
       "      <th>Created</th>\n",
       "    </tr>\n",
       "  </thead>\n",
       "  <tbody>\n",
       "    <tr>\n",
       "      <th>0</th>\n",
       "      <td>Is this really from Reddit? How to tell:</td>\n",
       "      <td>80</td>\n",
       "      <td>1axbf2i</td>\n",
       "      <td>reddit</td>\n",
       "      <td>/r/help/comments/1awsj1k/is_this_really_from_r...</td>\n",
       "      <td>79</td>\n",
       "      <td></td>\n",
       "      <td>1.708621e+09</td>\n",
       "    </tr>\n",
       "    <tr>\n",
       "      <th>1</th>\n",
       "      <td>Is this really from Reddit? How to tell:</td>\n",
       "      <td>66</td>\n",
       "      <td>1ax9r39</td>\n",
       "      <td>reddit</td>\n",
       "      <td>/r/help/comments/1awsj1k/is_this_really_from_r...</td>\n",
       "      <td>1</td>\n",
       "      <td></td>\n",
       "      <td>1.708617e+09</td>\n",
       "    </tr>\n",
       "    <tr>\n",
       "      <th>2</th>\n",
       "      <td>Is this really from Reddit? How to tell:</td>\n",
       "      <td>97</td>\n",
       "      <td>1awsj1k</td>\n",
       "      <td>reddit</td>\n",
       "      <td>https://www.reddit.com/r/help/comments/1awsj1k...</td>\n",
       "      <td>74</td>\n",
       "      <td>Hey all! Today we wanted to take a moment to [...</td>\n",
       "      <td>1.708562e+09</td>\n",
       "    </tr>\n",
       "    <tr>\n",
       "      <th>3</th>\n",
       "      <td>Join our CEO tomorrow to discuss the API</td>\n",
       "      <td>0</td>\n",
       "      <td>144ho2x</td>\n",
       "      <td>reddit</td>\n",
       "      <td>https://www.reddit.com/r/reddit/comments/144ho...</td>\n",
       "      <td>0</td>\n",
       "      <td>Reddit CEO, u/spez, will be here tomorrow to h...</td>\n",
       "      <td>1.686250e+09</td>\n",
       "    </tr>\n",
       "    <tr>\n",
       "      <th>4</th>\n",
       "      <td>Sat 2021-12-11</td>\n",
       "      <td>646</td>\n",
       "      <td>rf1y5i</td>\n",
       "      <td>reddit</td>\n",
       "      <td>https://www.reddit.com/r/nameaserver/comments/...</td>\n",
       "      <td>336</td>\n",
       "      <td>accessing vault............unlocked\\r\\n\\r\\ncal...</td>\n",
       "      <td>1.639354e+09</td>\n",
       "    </tr>\n",
       "  </tbody>\n",
       "</table>\n",
       "</div>"
      ],
      "text/plain": [
       "                                      Title  Score       ID  Author  \\\n",
       "0  Is this really from Reddit? How to tell:     80  1axbf2i  reddit   \n",
       "1  Is this really from Reddit? How to tell:     66  1ax9r39  reddit   \n",
       "2  Is this really from Reddit? How to tell:     97  1awsj1k  reddit   \n",
       "3  Join our CEO tomorrow to discuss the API      0  144ho2x  reddit   \n",
       "4                            Sat 2021-12-11    646   rf1y5i  reddit   \n",
       "\n",
       "                                                 URL  Num_Comments  \\\n",
       "0  /r/help/comments/1awsj1k/is_this_really_from_r...            79   \n",
       "1  /r/help/comments/1awsj1k/is_this_really_from_r...             1   \n",
       "2  https://www.reddit.com/r/help/comments/1awsj1k...            74   \n",
       "3  https://www.reddit.com/r/reddit/comments/144ho...             0   \n",
       "4  https://www.reddit.com/r/nameaserver/comments/...           336   \n",
       "\n",
       "                                                Body       Created  \n",
       "0                                                     1.708621e+09  \n",
       "1                                                     1.708617e+09  \n",
       "2  Hey all! Today we wanted to take a moment to [...  1.708562e+09  \n",
       "3  Reddit CEO, u/spez, will be here tomorrow to h...  1.686250e+09  \n",
       "4  accessing vault............unlocked\\r\\n\\r\\ncal...  1.639354e+09  "
      ]
     },
     "execution_count": 10,
     "metadata": {},
     "output_type": "execute_result"
    }
   ],
   "source": [
    "df.head()"
   ]
  },
  {
   "cell_type": "code",
   "execution_count": null,
   "id": "f52adc59-1a30-4027-89ed-a2cb37aec366",
   "metadata": {},
   "outputs": [],
   "source": []
  }
 ],
 "metadata": {
  "kernelspec": {
   "display_name": "Python 3 (ipykernel)",
   "language": "python",
   "name": "python3"
  },
  "language_info": {
   "codemirror_mode": {
    "name": "ipython",
    "version": 3
   },
   "file_extension": ".py",
   "mimetype": "text/x-python",
   "name": "python",
   "nbconvert_exporter": "python",
   "pygments_lexer": "ipython3",
   "version": "3.12.3"
  }
 },
 "nbformat": 4,
 "nbformat_minor": 5
}
